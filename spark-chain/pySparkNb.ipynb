{
 "cells": [
  {
   "cell_type": "code",
   "execution_count": null,
   "id": "05005a6f-dff0-4c2f-8514-b00af0c92a86",
   "metadata": {},
   "outputs": [],
   "source": []
  },
  {
   "cell_type": "code",
   "execution_count": 2,
   "id": "81574010-d8f7-49fa-8ad8-d709e39695bd",
   "metadata": {},
   "outputs": [],
   "source": [
    "import os\n",
    "os.environ['PYSPARK_SUBMIT_ARGS'] = '--packages org.apache.spark:spark-streaming-kafka-0-10_2.12:3.5.0,org.apache.spark:spark-sql-kafka-0-10_2.12:3.5.0 pyspark-shell'"
   ]
  },
  {
   "cell_type": "code",
   "execution_count": 3,
   "id": "d511166f-9395-42cb-b013-854c4f480c80",
   "metadata": {},
   "outputs": [],
   "source": [
    "from pyspark.sql import SparkSession\n",
    "from pyspark.sql.functions import *\n",
    "from pyspark.sql.types import *"
   ]
  },
  {
   "cell_type": "code",
   "execution_count": 4,
   "id": "f7b9e35a-e923-4248-a6d8-6c3ca157eac1",
   "metadata": {},
   "outputs": [],
   "source": [
    "spark = SparkSession.builder.appName(\"readFromKafka0\").getOrCreate()"
   ]
  },
  {
   "cell_type": "code",
   "execution_count": null,
   "id": "e0299117-dc16-49be-8fc9-7644d137f0b7",
   "metadata": {},
   "outputs": [],
   "source": [
    "# 2. Define schema for Kafka JSON messages\n",
    "schema = StructType([\n",
    "    StructField(\"id\", IntegerType()),\n",
    "    StructField(\"amt\", DoubleType()),\n",
    "    StructField(\"dob\", StringType()),\n",
    "    StructField(\"job\", StringType()),\n",
    "    StructField(\"lat\", DoubleType()),\n",
    "    StructField(\"zip\", IntegerType()),\n",
    "    StructField(\"city\", StringType()),\n",
    "    StructField(\"last\", StringType()),\n",
    "    StructField(\"long\", DoubleType()),          \n",
    "    StructField(\"first\", StringType()),\n",
    "    StructField(\"state\", StringType()),\n",
    "    StructField(\"cc_num\", StringType()),\n",
    "    StructField(\"gender\", StringType()),\n",
    "    StructField(\"street\", StringType()),\n",
    "    StructField(\"category\", StringType()),\n",
    "    StructField(\"city_pop\", IntegerType()),\n",
    "    StructField(\"merchant\", StringType()),\n",
    "    StructField(\"merch_lat\", DoubleType()),\n",
    "    StructField(\"trans_num\", StringType()),\n",
    "    StructField(\"unix_time\", LongType()),\n",
    "    StructField(\"merch_long\", DoubleType()),\n",
    "    StructField(\"trans_date_trans_time\", StringType()),\n",
    "])\n"
   ]
  },
  {
   "cell_type": "code",
   "execution_count": 6,
   "id": "128d567b-bb80-4083-8c77-a26c90e0fb01",
   "metadata": {},
   "outputs": [],
   "source": [
    "# 3. Read from Kafka topic\n",
    "kafka_df = spark.readStream \\\n",
    "    .format(\"kafka\") \\\n",
    "    .option(\"kafka.bootstrap.servers\", \"localhost:9092\") \\\n",
    "    .option(\"subscribe\", \"transactions\") \\\n",
    "    .option(\"startingOffsets\", \"latest\") \\\n",
    "    .load()"
   ]
  },
  {
   "cell_type": "code",
   "execution_count": 7,
   "id": "37d0e224-560e-421f-b03a-cff8a460f0b2",
   "metadata": {},
   "outputs": [],
   "source": [
    "# 4. Parse Kafka JSON (value column is bytes, convert to string)\n",
    "json_df = kafka_df.selectExpr(\"CAST(value AS STRING) AS json_str\")\n",
    "\n",
    "parsed_df = json_df.select(\n",
    "    from_json(col(\"json_str\"), schema).alias(\"data\")\n",
    ").select(\"data.*\")"
   ]
  },
  {
   "cell_type": "code",
   "execution_count": null,
   "id": "67f89164-9bd7-4e5c-86d6-b1a18d6fa0d5",
   "metadata": {},
   "outputs": [],
   "source": [
    "# 5. Load trained Spark ML Pipeline model\n",
    "model = PipelineModel.load(\"./saved_model\")\n"
   ]
  },
  {
   "cell_type": "code",
   "execution_count": null,
   "id": "ed93c1a1-0c64-47a0-948c-b77f7687d769",
   "metadata": {},
   "outputs": [],
   "source": [
    "# 6. Run prediction\n",
    "predictions_df = model.transform(parsed_df)"
   ]
  },
  {
   "cell_type": "code",
   "execution_count": null,
   "id": "59fd8f60-c0f5-4c9e-84fc-3fb42baf03cb",
   "metadata": {},
   "outputs": [],
   "source": [
    "# 7. Select original features + prediction result\n",
    "result_df = predictions_df.select(\n",
    "    col(\"transaction_amount\"),\n",
    "    col(\"transaction_time\"),\n",
    "    col(\"merchant_id\"),\n",
    "    col(\"customer_id\"),\n",
    "    col(\"prediction\").alias(\"fraud\")\n",
    ")"
   ]
  },
  {
   "cell_type": "code",
   "execution_count": null,
   "id": "c0ad34df-5aa9-4df3-a0c6-77133b900171",
   "metadata": {},
   "outputs": [],
   "source": [
    "# 8. Convert to JSON for Kafka sink\n",
    "output_df = result_df.select(\n",
    "    to_json(struct(\"*\")).alias(\"value\")\n",
    ")"
   ]
  },
  {
   "cell_type": "code",
   "execution_count": null,
   "id": "37162148-47e6-4492-b37b-7a7d48b3b768",
   "metadata": {},
   "outputs": [],
   "source": [
    "# 9. Write predictions to another Kafka topic\n",
    "query = output_df.writeStream \\\n",
    "    .format(\"kafka\") \\\n",
    "    .option(\"kafka.bootstrap.servers\", \"localhost:9093\") \\\n",
    "    .option(\"topic\", \"ml_predictions\") \\\n",
    "    .option(\"checkpointLocation\", \"/tmp/spark_checkpoints/ml_predictions\") \\\n",
    "    .outputMode(\"append\") \\\n",
    "    .start()\n",
    "\n",
    "query.awaitTermination()"
   ]
  },
  {
   "cell_type": "code",
   "execution_count": null,
   "id": "62b06e5a-1545-49b1-bdc1-574271b89e33",
   "metadata": {},
   "outputs": [],
   "source": []
  }
 ],
 "metadata": {
  "kernelspec": {
   "display_name": "Python 3 (ipykernel)",
   "language": "python",
   "name": "python3"
  },
  "language_info": {
   "codemirror_mode": {
    "name": "ipython",
    "version": 3
   },
   "file_extension": ".py",
   "mimetype": "text/x-python",
   "name": "python",
   "nbconvert_exporter": "python",
   "pygments_lexer": "ipython3",
   "version": "3.11.6"
  }
 },
 "nbformat": 4,
 "nbformat_minor": 5
}
